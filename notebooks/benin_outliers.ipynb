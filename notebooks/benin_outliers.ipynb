{
 "cells": [
  {
   "cell_type": "markdown",
   "id": "4fe79a7c",
   "metadata": {},
   "source": [
    "Solar Radiation Analysis\n"
   ]
  },
  {
   "cell_type": "markdown",
   "id": "978223fc",
   "metadata": {},
   "source": [
    "IMPORTING IMPORTANT LIBRARIES"
   ]
  },
  {
   "cell_type": "code",
   "execution_count": 3,
   "id": "6efb0c8a",
   "metadata": {},
   "outputs": [],
   "source": [
    "import datetime\n",
    "\n",
    "import pandas as pd\n",
    "import matplotlib.pyplot as plt\n",
    "import seaborn as sns\n",
    "import numpy as np"
   ]
  },
  {
   "cell_type": "markdown",
   "id": "7d0c6a2c",
   "metadata": {},
   "source": [
    "EXPLORATORY DATA ANALYSIS BUT ALREADY THE COMMENT COLUMN IS DROP IN THE benin_eda.ipynb"
   ]
  },
  {
   "cell_type": "markdown",
   "id": "e4449375",
   "metadata": {},
   "source": [
    "Z-score analysis"
   ]
  },
  {
   "cell_type": "markdown",
   "id": "b58c00c0",
   "metadata": {},
   "source": []
  }
 ],
 "metadata": {
  "kernelspec": {
   "display_name": "venv",
   "language": "python",
   "name": "python3"
  },
  "language_info": {
   "codemirror_mode": {
    "name": "ipython",
    "version": 3
   },
   "file_extension": ".py",
   "mimetype": "text/x-python",
   "name": "python",
   "nbconvert_exporter": "python",
   "pygments_lexer": "ipython3",
   "version": "3.13.3"
  }
 },
 "nbformat": 4,
 "nbformat_minor": 5
}
